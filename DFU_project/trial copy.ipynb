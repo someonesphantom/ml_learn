{
 "cells": [
  {
   "cell_type": "markdown",
   "metadata": {},
   "source": [
    "libs"
   ]
  },
  {
   "cell_type": "code",
   "execution_count": 1,
   "metadata": {
    "tags": []
   },
   "outputs": [
    {
     "name": "stdout",
     "output_type": "stream",
     "text": [
      "• Using TensorFlow Version: 2.7.0\n"
     ]
    }
   ],
   "source": [
    "import tensorflow as tf\n",
    "from tensorflow.keras.models import Sequential\n",
    "from tensorflow.keras import layers\n",
    "from tensorflow.keras.utils import image_dataset_from_directory\n",
    "from tensorflow.keras import optimizers\n",
    "from tensorflow.keras import losses\n",
    "from tensorflow.keras import callbacks\n",
    "import matplotlib.pyplot as plt\n",
    "import numpy as np\n",
    "import pandas as pd\n",
    "import os\n",
    "\n",
    "print('\\u2022 Using TensorFlow Version:', tf.__version__)"
   ]
  },
  {
   "cell_type": "markdown",
   "metadata": {},
   "source": [
    "Preparing the data"
   ]
  },
  {
   "cell_type": "code",
   "execution_count": 13,
   "metadata": {},
   "outputs": [
    {
     "name": "stdout",
     "output_type": "stream",
     "text": [
      "Found 808 files belonging to 2 classes.\n",
      "Found 247 files belonging to 2 classes.\n"
     ]
    }
   ],
   "source": [
    "# Define Constants\n",
    "TRAIN_PATH = './DFU/train'\n",
    "TEST_PATH = './DFU/TestSet'\n",
    "VALIDATION_PATH = './DFU/validation'\n",
    "BATCH_SIZE = 64\n",
    "IMAGE_HEIGHT = 224\n",
    "IMAGE_WIDTH = 224\n",
    "NUM_CLASSES = 2\n",
    "EPOCHS = 100\n",
    "\n",
    "\n",
    "# Load the Training and Validation Dataset\n",
    "train_ds = image_dataset_from_directory(\n",
    "    TRAIN_PATH,\n",
    "    labels = 'inferred',\n",
    "    batch_size = BATCH_SIZE,\n",
    "    image_size = (IMAGE_WIDTH, IMAGE_HEIGHT)\n",
    ")\n",
    "\n",
    "validation_ds = image_dataset_from_directory(\n",
    "    VALIDATION_PATH,\n",
    "    labels = 'inferred',\n",
    "    batch_size = BATCH_SIZE,\n",
    "    image_size = (IMAGE_WIDTH, IMAGE_HEIGHT)\n",
    ")"
   ]
  },
  {
   "cell_type": "markdown",
   "metadata": {},
   "source": [
    "Looking at the data"
   ]
  },
  {
   "cell_type": "code",
   "execution_count": 14,
   "metadata": {},
   "outputs": [
    {
     "name": "stdout",
     "output_type": "stream",
     "text": [
      "['Abnormal', 'normal']\n"
     ]
    }
   ],
   "source": [
    "# Load Test Dataset\n",
    "def decode_img(img):\n",
    "  # Convert the compressed string to a 3D uint8 tensor\n",
    "  img = tf.io.decode_jpeg(img, channels=3)\n",
    "  # Resize the image to the desired size\n",
    "  return tf.image.resize(img, [IMAGE_HEIGHT, IMAGE_WIDTH])\n",
    "\n",
    "def process_path(file_path):\n",
    "  # Load the raw data from the file as a string\n",
    "  img = tf.io.read_file(file_path)\n",
    "  img = decode_img(img)\n",
    "  return img\n",
    "\n",
    "test_ds = tf.data.Dataset.list_files(str(TEST_PATH + '/*'), shuffle=False)\n",
    "# test_ds = test_ds.shuffle(len(os.listdir(TEST_PATH)), reshuffle_each_iteration=False)\n",
    "test_ds = test_ds.map(process_path, num_parallel_calls=tf.data.AUTOTUNE)\n",
    "\n",
    "# Get the class names\n",
    "class_names = train_ds.class_names\n",
    "print(class_names)"
   ]
  },
  {
   "cell_type": "code",
   "execution_count": null,
   "metadata": {},
   "outputs": [],
   "source": [
    "# Visualize the testing dataset\n",
    "plt.figure(figsize = (10, 10))\n",
    "\n",
    "i = 0\n",
    "for images in test_ds.take(6):\n",
    "    ax = plt.subplot(3, 3, i + 1)\n",
    "    plt.imshow(images.numpy().astype(\"uint8\"))\n",
    "    plt.axis(\"off\")\n",
    "    i += 1"
   ]
  },
  {
   "cell_type": "markdown",
   "metadata": {},
   "source": [
    "Data augumentation "
   ]
  },
  {
   "cell_type": "code",
   "execution_count": null,
   "metadata": {},
   "outputs": [],
   "source": [
    "# Layers of Augmentation\n",
    "img_augmentation = Sequential(\n",
    "    [\n",
    "        layers.RandomRotation(factor = 0.15),\n",
    "        layers.RandomTranslation(height_factor = 0.1, width_factor = 0.1),\n",
    "        layers.RandomFlip(),\n",
    "        layers.GaussianNoise(stddev = 0.09),\n",
    "        layers.RandomContrast(factor = 0.1),\n",
    "    ],\n",
    "    name = \"img_augmentation\"\n",
    ")\n",
    "\n",
    "\n",
    "# View the augmentations\n",
    "plt.figure(figsize = (10, 10))\n",
    "for image, labels in train_ds.take(1):\n",
    "    for i in range(9):\n",
    "        ax = plt.subplot(3, 3, i + 1)\n",
    "        aug_img = img_augmentation(tf.expand_dims(image[0], axis = 0))\n",
    "        plt.imshow(aug_img[0].numpy().astype(\"uint8\"))\n",
    "        plt.title(class_names[labels[0]])\n",
    "        plt.axis(\"off\")\n",
    "\n",
    "# Caching and Prefetching (Optimization)\n",
    "AUTOTUNE = tf.data.AUTOTUNE\n",
    "\n",
    "train_ds = train_ds.cache().prefetch(buffer_size = AUTOTUNE)\n",
    "validation_ds = validation_ds.cache().prefetch(buffer_size = AUTOTUNE)"
   ]
  },
  {
   "cell_type": "code",
   "execution_count": 24,
   "metadata": {},
   "outputs": [],
   "source": [
    "normalization_layer = layers.Rescaling(1./255)\n",
    "\n",
    "normalized_ds = train_ds.map(lambda x, y: (normalization_layer(x), y))\n",
    "image_batch, labels_batch = next(iter(normalized_ds))\n",
    "first_image = image_batch[0]"
   ]
  },
  {
   "cell_type": "markdown",
   "metadata": {},
   "source": [
    "Building a small model "
   ]
  },
  {
   "cell_type": "code",
   "execution_count": 32,
   "metadata": {},
   "outputs": [
    {
     "name": "stdout",
     "output_type": "stream",
     "text": [
      "Model: \"sequential_8\"\n",
      "_________________________________________________________________\n",
      " Layer (type)                Output Shape              Param #   \n",
      "=================================================================\n",
      " rescaling_4 (Rescaling)     (None, 224, 224, 3)       0         \n",
      "                                                                 \n",
      " conv2d_27 (Conv2D)          (None, 224, 224, 16)      448       \n",
      "                                                                 \n",
      " max_pooling2d_9 (MaxPooling  (None, 112, 112, 16)     0         \n",
      " 2D)                                                             \n",
      "                                                                 \n",
      " conv2d_28 (Conv2D)          (None, 112, 112, 32)      4640      \n",
      "                                                                 \n",
      " max_pooling2d_10 (MaxPoolin  (None, 56, 56, 32)       0         \n",
      " g2D)                                                            \n",
      "                                                                 \n",
      " conv2d_29 (Conv2D)          (None, 56, 56, 64)        18496     \n",
      "                                                                 \n",
      " max_pooling2d_11 (MaxPoolin  (None, 28, 28, 64)       0         \n",
      " g2D)                                                            \n",
      "                                                                 \n",
      " flatten_8 (Flatten)         (None, 50176)             0         \n",
      "                                                                 \n",
      " dense_14 (Dense)            (None, 128)               6422656   \n",
      "                                                                 \n",
      " dense_15 (Dense)            (None, 2)                 258       \n",
      "                                                                 \n",
      "=================================================================\n",
      "Total params: 6,446,498\n",
      "Trainable params: 6,446,498\n",
      "Non-trainable params: 0\n",
      "_________________________________________________________________\n"
     ]
    }
   ],
   "source": [
    "\n",
    "model = tf.keras.models.Sequential([\n",
    "    layers.Rescaling(1./255, input_shape=(IMAGE_HEIGHT, IMAGE_WIDTH, 3)),\n",
    "    layers.Conv2D(16, 3, padding='same', activation='relu'),\n",
    "    layers.MaxPooling2D(),\n",
    "    layers.Conv2D(32, 3, padding='same', activation='relu'),\n",
    "    layers.MaxPooling2D(),\n",
    "    layers.Conv2D(64, 3, padding='same', activation='relu'),\n",
    "    layers.MaxPooling2D(),\n",
    "    layers.Flatten(),\n",
    "    layers.Dense(128, activation='relu'),\n",
    "    layers.Dense(NUM_CLASSES)\n",
    "])\n",
    "model.summary()\n",
    "\n",
    "\n"
   ]
  },
  {
   "cell_type": "markdown",
   "metadata": {},
   "source": [
    "compiling the model"
   ]
  },
  {
   "cell_type": "code",
   "execution_count": 33,
   "metadata": {},
   "outputs": [
    {
     "name": "stdout",
     "output_type": "stream",
     "text": [
      "Model: \"sequential_8\"\n",
      "_________________________________________________________________\n",
      " Layer (type)                Output Shape              Param #   \n",
      "=================================================================\n",
      " rescaling_4 (Rescaling)     (None, 224, 224, 3)       0         \n",
      "                                                                 \n",
      " conv2d_27 (Conv2D)          (None, 224, 224, 16)      448       \n",
      "                                                                 \n",
      " max_pooling2d_9 (MaxPooling  (None, 112, 112, 16)     0         \n",
      " 2D)                                                             \n",
      "                                                                 \n",
      " conv2d_28 (Conv2D)          (None, 112, 112, 32)      4640      \n",
      "                                                                 \n",
      " max_pooling2d_10 (MaxPoolin  (None, 56, 56, 32)       0         \n",
      " g2D)                                                            \n",
      "                                                                 \n",
      " conv2d_29 (Conv2D)          (None, 56, 56, 64)        18496     \n",
      "                                                                 \n",
      " max_pooling2d_11 (MaxPoolin  (None, 28, 28, 64)       0         \n",
      " g2D)                                                            \n",
      "                                                                 \n",
      " flatten_8 (Flatten)         (None, 50176)             0         \n",
      "                                                                 \n",
      " dense_14 (Dense)            (None, 128)               6422656   \n",
      "                                                                 \n",
      " dense_15 (Dense)            (None, 2)                 258       \n",
      "                                                                 \n",
      "=================================================================\n",
      "Total params: 6,446,498\n",
      "Trainable params: 6,446,498\n",
      "Non-trainable params: 0\n",
      "_________________________________________________________________\n"
     ]
    }
   ],
   "source": [
    "model.compile(optimizer=tf.keras.optimizers.SGD(learning_rate=0.001, momentum=0.0, nesterov=False, name='SGD'),\n",
    "              loss=tf.keras.losses.SparseCategoricalCrossentropy(from_logits=True),\n",
    "              metrics=['accuracy'])\n",
    "\n",
    "model.summary()"
   ]
  },
  {
   "cell_type": "markdown",
   "metadata": {},
   "source": [
    "training the model"
   ]
  },
  {
   "cell_type": "code",
   "execution_count": 35,
   "metadata": {},
   "outputs": [
    {
     "name": "stdout",
     "output_type": "stream",
     "text": [
      "Epoch 1/10\n",
      "13/13 [==============================] - 28s 2s/step - loss: 0.6710 - accuracy: 0.7054 - val_loss: 0.6654 - val_accuracy: 0.6599\n",
      "Epoch 2/10\n",
      "13/13 [==============================] - 17s 1s/step - loss: 0.6681 - accuracy: 0.6955 - val_loss: 0.6621 - val_accuracy: 0.6842\n",
      "Epoch 3/10\n",
      "13/13 [==============================] - 17s 1s/step - loss: 0.6652 - accuracy: 0.6993 - val_loss: 0.6587 - val_accuracy: 0.7166\n",
      "Epoch 4/10\n",
      "13/13 [==============================] - 23s 2s/step - loss: 0.6623 - accuracy: 0.7116 - val_loss: 0.6556 - val_accuracy: 0.7247\n",
      "Epoch 5/10\n",
      "13/13 [==============================] - 22s 2s/step - loss: 0.6596 - accuracy: 0.7129 - val_loss: 0.6527 - val_accuracy: 0.7409\n",
      "Epoch 6/10\n",
      "13/13 [==============================] - 19s 1s/step - loss: 0.6570 - accuracy: 0.7240 - val_loss: 0.6497 - val_accuracy: 0.7449\n",
      "Epoch 7/10\n",
      "13/13 [==============================] - 17s 1s/step - loss: 0.6545 - accuracy: 0.7277 - val_loss: 0.6468 - val_accuracy: 0.7530\n",
      "Epoch 8/10\n",
      "13/13 [==============================] - 22s 2s/step - loss: 0.6519 - accuracy: 0.7327 - val_loss: 0.6439 - val_accuracy: 0.7611\n",
      "Epoch 9/10\n",
      "13/13 [==============================] - 17s 1s/step - loss: 0.6494 - accuracy: 0.7376 - val_loss: 0.6410 - val_accuracy: 0.7611\n",
      "Epoch 10/10\n",
      "13/13 [==============================] - 18s 1s/step - loss: 0.6468 - accuracy: 0.7351 - val_loss: 0.6380 - val_accuracy: 0.7652\n"
     ]
    }
   ],
   "source": [
    "history = model.fit(\n",
    "  train_ds,\n",
    "  validation_data=validation_ds,\n",
    "  epochs=10\n",
    ")"
   ]
  },
  {
   "cell_type": "markdown",
   "metadata": {},
   "source": [
    "Visualize training results"
   ]
  },
  {
   "cell_type": "code",
   "execution_count": 37,
   "metadata": {},
   "outputs": [
    {
     "data": {
      "image/png": "[encoded data removed]",
      "text/plain": [
       "<Figure size 576x576 with 2 Axes>"
      ]
     },
     "metadata": {
      "needs_background": "light"
     },
     "output_type": "display_data"
    }
   ],
   "source": [
    "acc = history.history['accuracy']\n",
    "val_acc = history.history['val_accuracy']\n",
    "\n",
    "loss = history.history['loss']\n",
    "val_loss = history.history['val_loss']\n",
    "\n",
    "epochs_range = range(10)\n",
    "\n",
    "plt.figure(figsize=(8, 8))\n",
    "plt.subplot(1, 2, 1)\n",
    "plt.plot(epochs_range, acc, label='Training Accuracy')\n",
    "plt.plot(epochs_range, val_acc, label='Validation Accuracy')\n",
    "plt.legend(loc='lower right')\n",
    "plt.title('Training and Validation Accuracy')\n",
    "\n",
    "plt.subplot(1, 2, 2)\n",
    "plt.plot(epochs_range, loss, label='Training Loss')\n",
    "plt.plot(epochs_range, val_loss, label='Validation Loss')\n",
    "plt.legend(loc='upper right')\n",
    "plt.title('Training and Validation Loss')\n",
    "plt.show()"
   ]
  },
  {
   "cell_type": "markdown",
   "metadata": {},
   "source": [
    "Predict on new data"
   ]
  },
  {
   "cell_type": "code",
   "execution_count": 43,
   "metadata": {},
   "outputs": [
    {
     "name": "stdout",
     "output_type": "stream",
     "text": [
      "This image most likely belongs to Abnormal with a 54.19 percent confidence.\n"
     ]
    }
   ],
   "source": [
    "img_path = './DFU/Original_Images/2.jpg'\n",
    "\n",
    "img = tf.keras.utils.load_img(\n",
    "    img_path, target_size=(IMAGE_HEIGHT, IMAGE_WIDTH)\n",
    ")\n",
    "img_array = tf.keras.utils.img_to_array(img)\n",
    "img_array = tf.expand_dims(img_array, 0) # Create a batch\n",
    "\n",
    "predictions = model.predict(img_array)\n",
    "score = tf.nn.softmax(predictions[0])\n",
    "\n",
    "print(\n",
    "    \"This image most likely belongs to {} with a {:.2f} percent confidence.\"\n",
    "    .format(class_names[np.argmax(score)], 100 * np.max(score))\n",
    ")"
   ]
  }
 ],
 "metadata": {
  "interpreter": {
   "hash": "aee8b7b246df8f9039afb4144a1f6fd8d2ca17a180786b69acc140d282b71a49"
  },
  "kernelspec": {
   "display_name": "Python 3.7.0 64-bit",
   "name": "python3"
  },
  "language_info": {
   "codemirror_mode": {
    "name": "ipython",
    "version": 3
   },
   "file_extension": ".py",
   "mimetype": "text/x-python",
   "name": "python",
   "nbconvert_exporter": "python",
   "pygments_lexer": "ipython3",
   "version": "3.7.0"
  },
  "orig_nbformat": 2
 },
 "nbformat": 4,
 "nbformat_minor": 2
}
