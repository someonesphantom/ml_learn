{
 "cells": [
  {
   "cell_type": "markdown",
   "metadata": {},
   "source": [
    "libs"
   ]
  },
  {
   "cell_type": "code",
   "execution_count": 3,
   "metadata": {
    "tags": []
   },
   "outputs": [
    {
     "name": "stdout",
     "output_type": "stream",
     "text": [
      "• Using TensorFlow Version: 2.7.0\n"
     ]
    }
   ],
   "source": [
    "import numpy as np\n",
    "import pandas as pd\n",
    "from keras.preprocessing.image import ImageDataGenerator,load_img\n",
    "from tensorflow.keras.utils import to_categorical\n",
    "from sklearn.model_selection import train_test_split\n",
    "import matplotlib.pyplot as plt\n",
    "import random\n",
    "import os\n",
    "import tensorflow as tf\n",
    "\n",
    "print('\\u2022 Using TensorFlow Version:', tf.__version__)"
   ]
  },
  {
   "cell_type": "markdown",
   "metadata": {},
   "source": [
    "Preparing the data"
   ]
  },
  {
   "cell_type": "code",
   "execution_count": 5,
   "metadata": {},
   "outputs": [],
   "source": [
    "base_dir = './DFU'\n",
    "\n",
    "train_dir = os.path.join(base_dir, 'train')\n",
    "validation_dir = os.path.join(base_dir, 'validation')\n",
    "\n",
    "# Directory with our training normal/abnormal pictures\n",
    "train_abnormal_dir = os.path.join(train_dir, 'abnormal')\n",
    "train_normal_dir = os.path.join(train_dir, 'normal')\n",
    "\n",
    "# Directory with our validation normal/abnormal pictures\n",
    "validation_abnormal_dir = os.path.join(validation_dir, 'abnormal')\n",
    "validation_normal_dir = os.path.join(validation_dir, 'normal')"
   ]
  },
  {
   "cell_type": "markdown",
   "metadata": {},
   "source": [
    "Looking at the data"
   ]
  },
  {
   "cell_type": "code",
   "execution_count": 6,
   "metadata": {},
   "outputs": [
    {
     "name": "stdout",
     "output_type": "stream",
     "text": [
      "['63.jpg', '189.jpg', '77.jpg', '162.jpg', '176.jpg', '88.jpg', '348.jpg', '360.jpg', '374.jpg', '228.jpg']\n",
      "['63.jpg', '189.jpg', '77.jpg', '162.jpg', '176.jpg', '88.jpg', '348.jpg', '360.jpg', '374.jpg', '228.jpg']\n"
     ]
    }
   ],
   "source": [
    "train_abnormal_fnames = os.listdir( train_abnormal_dir )\n",
    "train_normal_fnames = os.listdir( train_normal_dir )\n",
    "\n",
    "print(train_abnormal_fnames[:10])\n",
    "print(train_normal_fnames[:10])"
   ]
  },
  {
   "cell_type": "markdown",
   "metadata": {},
   "source": [
    "Printing the no.of images in each file"
   ]
  },
  {
   "cell_type": "code",
   "execution_count": 7,
   "metadata": {},
   "outputs": [
    {
     "name": "stdout",
     "output_type": "stream",
     "text": [
      "total training abnormal images : 401\n",
      "total training normal images : 409\n",
      "total validation abnormal images : 113\n",
      "total validation normal images : 136\n"
     ]
    }
   ],
   "source": [
    "print('total training abnormal images :', len(os.listdir(      train_abnormal_dir ) ))\n",
    "print('total training normal images :', len(os.listdir(      train_normal_dir ) ))\n",
    "\n",
    "print('total validation abnormal images :', len(os.listdir( validation_abnormal_dir ) ))\n",
    "print('total validation normal images :', len(os.listdir( validation_normal_dir ) ))"
   ]
  },
  {
   "cell_type": "markdown",
   "metadata": {},
   "source": [
    "Printing the images "
   ]
  },
  {
   "cell_type": "code",
   "execution_count": null,
   "metadata": {},
   "outputs": [],
   "source": [
    "%matplotlib inline\n",
    "\n",
    "import matplotlib.image as mpimg\n",
    "import matplotlib.pyplot as plt\n",
    "\n",
    "# Parameters for our graph; we'll output images in a 4x4 configuration\n",
    "nrows = 4\n",
    "ncols = 4\n",
    "\n",
    "pic_index = 0 # Index for iterating over images\n",
    "\n",
    "# Set up matplotlib fig, and size it to fit 4x4 pics\n",
    "fig = plt.gcf()\n",
    "fig.set_size_inches(ncols*4, nrows*4)\n",
    "\n",
    "pic_index+=8\n",
    "\n",
    "next_abnormal_pix = [os.path.join(train_abnormal_dir, fname) \n",
    "                for fname in train_abnormal_fnames[ pic_index-8:pic_index] \n",
    "               ]\n",
    "\n",
    "next_normal_pix = [os.path.join(train_normal_dir, fname) \n",
    "                for fname in train_normal_fnames[ pic_index-8:pic_index]\n",
    "               ]\n",
    "\n",
    "for i, img_path in enumerate(next_abnormal_pix+next_normal_pix):\n",
    "    # Set up subplot; subplot indices start at 1\n",
    "    sp = plt.subplot(nrows, ncols, i + 1)\n",
    "    sp.axis('Off') # Don't show axes (or gridlines)\n",
    "    \n",
    "    img = mpimg.imread(img_path)\n",
    "    plt.imshow(img)\n",
    "\n",
    "plt.show()"
   ]
  },
  {
   "cell_type": "markdown",
   "metadata": {},
   "source": [
    "Building a small model "
   ]
  },
  {
   "cell_type": "code",
   "execution_count": null,
   "metadata": {},
   "outputs": [],
   "source": [
    "model = tf.keras.models.Sequential([\n",
    "    # Note the input shape is the desired size of the image 512X512 with 3 bytes color\n",
    "    tf.keras.layers.Conv2D(16, (3,3), activation='relu', input_shape=(512, 512, 3)),\n",
    "    keras.layers.BatchNormalization(),\n",
    "    tf.keras.layers.GlobalAveragePooling2D(2,2),\n",
    "    tf.keras.layers.Conv2D(32, (3,3), activation='relu'),\n",
    "    tf.keras.layers.GlobalAveragePooling2D(2,2), \n",
    "    tf.keras.layers.Conv2D(64, (3,3), activation='relu'), \n",
    "    tf.keras.layers.GlobalAveragePooling2D(2,2),\n",
    "    # Flatten the results to feed into a DNN\n",
    "    tf.keras.layers.Flatten(), \n",
    "    # 512 neuron hidden layer\n",
    "    tf.keras.layers.Dense(512, activation='relu'), \n",
    "    # Only 1 output neuron. It will contain a value from 0-1 where 0 for 1 class ('abnormal') and 1 for the other ('normal')\n",
    "    tf.keras.layers.Dense(1, activation='sigmoid')  \n",
    "])\n",
    "model.summary()\n",
    "\n",
    "\n"
   ]
  }
 ],
 "metadata": {
  "interpreter": {
   "hash": "aee8b7b246df8f9039afb4144a1f6fd8d2ca17a180786b69acc140d282b71a49"
  },
  "kernelspec": {
   "display_name": "Python 3.7.0 64-bit",
   "name": "python3"
  },
  "language_info": {
   "codemirror_mode": {
    "name": "ipython",
    "version": 3
   },
   "file_extension": ".py",
   "mimetype": "text/x-python",
   "name": "python",
   "nbconvert_exporter": "python",
   "pygments_lexer": "ipython3",
   "version": "3.7.0"
  },
  "orig_nbformat": 2
 },
 "nbformat": 4,
 "nbformat_minor": 2
}
